{
 "cells": [
  {
   "cell_type": "markdown",
   "id": "065bbb99",
   "metadata": {},
   "source": [
    "## PyTorch - CUDA"
   ]
  },
  {
   "cell_type": "markdown",
   "id": "afc2cfb8",
   "metadata": {},
   "source": [
    "#### Accelerators\n",
    "\n",
    "Accelerators, like CUDA, are used to significantly speed up computation by offloading work from the **CPU** to a **GPU**.\n",
    "\n",
    "- **CUDA** (Compute Unified Device Architecture) is a parallel computing platform and API developed by NVIDIA."
   ]
  },
  {
   "cell_type": "markdown",
   "id": "59ecbae2",
   "metadata": {},
   "source": [
    "#### Checking for CUDA (GPU) Availability"
   ]
  },
  {
   "cell_type": "code",
   "execution_count": 1,
   "id": "e34f0117",
   "metadata": {},
   "outputs": [
    {
     "name": "stdout",
     "output_type": "stream",
     "text": [
      "Available GPU: True\n",
      "Number of GPUs: 1\n",
      "First GPU name: NVIDIA GeForce RTX 4060 Laptop GPU\n",
      "GPU's compute capability: (8, 9)\n",
      "Device: cuda\n"
     ]
    }
   ],
   "source": [
    "import torch\n",
    "\n",
    "# Returns True if GPU is available\n",
    "print(\"Available GPU:\", torch.cuda.is_available())\n",
    "\n",
    "# Returns the number of GPUs\n",
    "print(\"Number of GPUs:\", torch.cuda.device_count())\n",
    "\n",
    "# Name of the first GPU\n",
    "print(\"First GPU name:\", torch.cuda.get_device_name(0))\n",
    "\n",
    "# Returns the \"compute capability\" of the GPU\n",
    "print(\"GPU's compute capability:\", torch.cuda.get_device_capability())\n",
    "\n",
    "# Gives a full description of the GPU \n",
    "# print(torch.cuda.get_device_properties(0))\n",
    "\n",
    "# Check if CUDA is available\n",
    "device = torch.device(\"cuda\" if torch.cuda.is_available() else \"cpu\")\n",
    "print(\"Device:\", device)\n",
    "\n",
    "# Move a tensor to the appropriate device\n",
    "tensor = torch.tensor([[1, 2], [3, 4]])\n",
    "tensor = tensor.to(device)"
   ]
  }
 ],
 "metadata": {
  "kernelspec": {
   "display_name": "Python 3",
   "language": "python",
   "name": "python3"
  },
  "language_info": {
   "codemirror_mode": {
    "name": "ipython",
    "version": 3
   },
   "file_extension": ".py",
   "mimetype": "text/x-python",
   "name": "python",
   "nbconvert_exporter": "python",
   "pygments_lexer": "ipython3",
   "version": "3.12.3"
  }
 },
 "nbformat": 4,
 "nbformat_minor": 5
}
