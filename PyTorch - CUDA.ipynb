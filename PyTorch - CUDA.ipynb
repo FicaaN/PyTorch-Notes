{
 "cells": [
  {
   "cell_type": "markdown",
   "id": "065bbb99",
   "metadata": {},
   "source": [
    "## PyTorch - CUDA"
   ]
  },
  {
   "cell_type": "markdown",
   "id": "afc2cfb8",
   "metadata": {},
   "source": [
    "##### Accelerators\n",
    "\n",
    "Accelerators, like CUDA, are used to significantly speed up computation by offloading work from the **CPU** to a **GPU**.\n",
    "\n",
    "- **CUDA** (Compute Unified Device Architecture) is a parallel computing platform and API developed by NVIDIA."
   ]
  },
  {
   "cell_type": "markdown",
   "id": "59ecbae2",
   "metadata": {},
   "source": [
    "##### Checking for CUDA (GPU) Availability"
   ]
  },
  {
   "cell_type": "code",
   "execution_count": 3,
   "id": "e34f0117",
   "metadata": {},
   "outputs": [
    {
     "name": "stdout",
     "output_type": "stream",
     "text": [
      "True\n",
      "1\n",
      "NVIDIA GeForce RTX 4060 Laptop GPU\n",
      "(8, 9)\n",
      "cuda\n"
     ]
    }
   ],
   "source": [
    "import torch\n",
    "\n",
    "print(torch.cuda.is_available()) # Returns True if GPU is available\n",
    "print(torch.cuda.device_count()) # Number of GPUs\n",
    "print(torch.cuda.get_device_name(0)) # Name of the first GPU\n",
    "print(torch.cuda.get_device_capability()) # Returns the \"compute capability\" of the GPU\n",
    "# print(torch.cuda.get_device_properties(0)) # Gives a full description of the GPU \n",
    "\n",
    "# Check if CUDA is available\n",
    "device = torch.device(\"cuda\" if torch.cuda.is_available() else \"cpu\")\n",
    "print(device)\n",
    "\n",
    "# Move a tensor to the appropriate device\n",
    "tensor = torch.tensor([[1, 2], [3, 4]])\n",
    "tensor = tensor.to(device)"
   ]
  }
 ],
 "metadata": {
  "kernelspec": {
   "display_name": "Python 3",
   "language": "python",
   "name": "python3"
  },
  "language_info": {
   "codemirror_mode": {
    "name": "ipython",
    "version": 3
   },
   "file_extension": ".py",
   "mimetype": "text/x-python",
   "name": "python",
   "nbconvert_exporter": "python",
   "pygments_lexer": "ipython3",
   "version": "3.12.3"
  }
 },
 "nbformat": 4,
 "nbformat_minor": 5
}
