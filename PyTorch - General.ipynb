{
 "cells": [
  {
   "cell_type": "markdown",
   "metadata": {},
   "source": [
    "## PyTorch - General Stuff"
   ]
  },
  {
   "cell_type": "markdown",
   "metadata": {},
   "source": [
    "#### Importing Library and Specific Submodules"
   ]
  },
  {
   "cell_type": "code",
   "execution_count": 1,
   "metadata": {},
   "outputs": [],
   "source": [
    "import torch\n",
    "\n",
    "# Neural Networks Components\n",
    "import torch.nn as nn\n",
    "import torch.nn.functional as F # Functional API\n",
    "\n",
    "# For Datasets and Custom Datasets\n",
    "from torch.utils.data import DataLoader, Dataset\n",
    "\n",
    "# Optimizers\n",
    "import torch.optim as optim\n",
    "\n",
    "# For Computer Vision\n",
    "import torchvision\n",
    "import torchvision.transforms as transforms # Preprocessing and data augmentation\n",
    "import torchvision.datasets as datasets # Ready-to-use datasets\n",
    "import torchvision.models as models # Pre-trained models\n",
    "\n",
    "# For Audio Processing\n",
    "import torchaudio"
   ]
  },
  {
   "cell_type": "markdown",
   "metadata": {},
   "source": [
    "#### Checking Versions"
   ]
  },
  {
   "cell_type": "code",
   "execution_count": 2,
   "metadata": {},
   "outputs": [
    {
     "name": "stdout",
     "output_type": "stream",
     "text": [
      "PyTorch version:  2.5.1+cu118\n",
      "Torch Vision version:  0.20.1+cpu\n",
      "Torch Audio version:  2.5.1+cu118\n",
      "CUDA version:  11.8\n"
     ]
    }
   ],
   "source": [
    "print(\"PyTorch version: \", torch.__version__)\n",
    "print(\"Torch Vision version: \", torchvision.__version__)\n",
    "print(\"Torch Audio version: \", torchaudio.__version__)\n",
    "print(\"CUDA version: \", torch.version.cuda)"
   ]
  }
 ],
 "metadata": {
  "kernelspec": {
   "display_name": "Python 3",
   "language": "python",
   "name": "python3"
  },
  "language_info": {
   "codemirror_mode": {
    "name": "ipython",
    "version": 3
   },
   "file_extension": ".py",
   "mimetype": "text/x-python",
   "name": "python",
   "nbconvert_exporter": "python",
   "pygments_lexer": "ipython3",
   "version": "3.12.3"
  }
 },
 "nbformat": 4,
 "nbformat_minor": 2
}
