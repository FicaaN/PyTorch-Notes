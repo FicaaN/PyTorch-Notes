{
 "cells": [
  {
   "cell_type": "markdown",
   "metadata": {},
   "source": [
    "## PyTorch - General Stuff"
   ]
  },
  {
   "cell_type": "code",
   "execution_count": 1,
   "metadata": {},
   "outputs": [],
   "source": [
    "import torch"
   ]
  },
  {
   "cell_type": "markdown",
   "metadata": {},
   "source": [
    "##### Some of the specific submodules:"
   ]
  },
  {
   "cell_type": "code",
   "execution_count": 2,
   "metadata": {},
   "outputs": [],
   "source": [
    "# Neural networks components\n",
    "import torch.nn as nn\n",
    "import torch.nn.functional as F # Functional API\n",
    "\n",
    "# For Computer Vision\n",
    "import torchvision\n",
    "import torchvision.transforms as transforms # Preprocessing and data augmentation\n",
    "import torchvision.datasets as datasets # Ready-to-use datasets\n",
    "import torchvision.models as models # Pre-trained models"
   ]
  },
  {
   "cell_type": "markdown",
   "metadata": {},
   "source": [
    "##### Checking PyTorch Version"
   ]
  },
  {
   "cell_type": "code",
   "execution_count": 3,
   "metadata": {},
   "outputs": [
    {
     "name": "stdout",
     "output_type": "stream",
     "text": [
      "2.5.1+cu118\n",
      "0.20.1+cpu\n"
     ]
    }
   ],
   "source": [
    "print(torch.__version__)\n",
    "print(torchvision.__version__)"
   ]
  },
  {
   "cell_type": "markdown",
   "metadata": {},
   "source": [
    "##### Checking for CUDA (GPU) Availability"
   ]
  },
  {
   "cell_type": "code",
   "execution_count": 4,
   "metadata": {},
   "outputs": [
    {
     "name": "stdout",
     "output_type": "stream",
     "text": [
      "True\n",
      "1\n",
      "NVIDIA GeForce RTX 4060 Laptop GPU\n",
      "(8, 9)\n",
      "_CudaDeviceProperties(name='NVIDIA GeForce RTX 4060 Laptop GPU', major=8, minor=9, total_memory=8187MB, multi_processor_count=24, uuid=1a82cc5c-39e0-23a1-7d55-bb22377f5a30, L2_cache_size=32MB)\n",
      "cuda\n"
     ]
    }
   ],
   "source": [
    "print(torch.cuda.is_available()) # Returns True if GPU is available\n",
    "print(torch.cuda.device_count()) # Number of GPUs\n",
    "print(torch.cuda.get_device_name(0)) # Name of the first GPU\n",
    "print(torch.cuda.get_device_capability()) # Returns the \"compute capability\" of the GPU\n",
    "print(torch.cuda.get_device_properties(0)) # Gives a full description of the GPU\n",
    "\n",
    "device = torch.device(\"cuda\" if torch.cuda.is_available() else \"cpu\")\n",
    "print(device)"
   ]
  }
 ],
 "metadata": {
  "kernelspec": {
   "display_name": "Python 3",
   "language": "python",
   "name": "python3"
  },
  "language_info": {
   "codemirror_mode": {
    "name": "ipython",
    "version": 3
   },
   "file_extension": ".py",
   "mimetype": "text/x-python",
   "name": "python",
   "nbconvert_exporter": "python",
   "pygments_lexer": "ipython3",
   "version": "3.12.3"
  }
 },
 "nbformat": 4,
 "nbformat_minor": 2
}
