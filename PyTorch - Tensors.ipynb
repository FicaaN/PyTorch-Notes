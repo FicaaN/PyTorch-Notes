{
 "cells": [
  {
   "cell_type": "markdown",
   "id": "065de2ea",
   "metadata": {},
   "source": [
    "## PyTorch - Tensors"
   ]
  },
  {
   "cell_type": "markdown",
   "id": "6af3a3a4",
   "metadata": {},
   "source": [
    "#### What are Tensors?\n",
    "\n",
    "Tensors are specialized data structures that are very similar to arrays and matrices. They are the fundamental building blocks in PyTorch (and other deep learning frameworks).\n",
    "\n",
    "Tensors are like NumPy's `ndarrays`, but with additional capabilities, such as:\n",
    "- Running on GPUs for acceleration\n",
    "- Supporting automatic differentiation (crucial for training neural networks)\n",
    "\n",
    "They are used for storing and operating on numerical data and can have any number of dimensions.\n",
    "\n",
    "| Tensor Type | Description | Example |\n",
    "| --- | --- | --- |\n",
    "| 0-D Tensor | Scalar | torch.tensor(5) |\n",
    "| 1-D Tensor | Vector | torch.tensor([1, 2, 3]) |\n",
    "| 2-D Tensor | Matrix | torch.tensor([[1, 2], [3, 4]]) |\n",
    "| 3-D+ Tensor | Multi-dimensional array / Tensor | torch.rand(3, 3, 3) |"
   ]
  },
  {
   "cell_type": "markdown",
   "id": "22962239",
   "metadata": {},
   "source": [
    "#### Creating a Tensor"
   ]
  },
  {
   "cell_type": "code",
   "execution_count": 1,
   "id": "3297feb9",
   "metadata": {},
   "outputs": [
    {
     "name": "stdout",
     "output_type": "stream",
     "text": [
      "tensor([[1, 2],\n",
      "        [3, 4]])\n",
      "tensor([[1, 2],\n",
      "        [3, 4]])\n",
      "tensor([[0., 0., 0.],\n",
      "        [0., 0., 0.]])\n",
      "tensor([[1., 1., 1.],\n",
      "        [1., 1., 1.]])\n"
     ]
    }
   ],
   "source": [
    "import torch\n",
    "import numpy as np\n",
    "\n",
    "# Allocate memory for the tensor\n",
    "tensor_empty = torch.empty(3, 4)\n",
    "\n",
    "# Directly from data\n",
    "data = [[1, 2], [3, 4]]\n",
    "tensor_data = torch.tensor(data)\n",
    "print(tensor_data)\n",
    "\n",
    "# From a NumPy array\n",
    "np_array = np.array(data)\n",
    "tensor_numpy = torch.from_numpy(np_array)\n",
    "print(tensor_numpy)\n",
    "\n",
    "# Initialize tensor with all zeros/ones\n",
    "tensor_zeros = torch.zeros(2, 3)\n",
    "tensor_ones = torch.ones(2, 3)\n",
    "print(tensor_zeros)\n",
    "print(tensor_ones)"
   ]
  },
  {
   "cell_type": "markdown",
   "id": "8a6aef77",
   "metadata": {},
   "source": [
    "#### Creating Tensors with Random Values"
   ]
  },
  {
   "cell_type": "code",
   "execution_count": 2,
   "id": "3278837e",
   "metadata": {},
   "outputs": [
    {
     "name": "stdout",
     "output_type": "stream",
     "text": [
      "tensor([[0.8941, 0.3848, 0.3506],\n",
      "        [0.3186, 0.7266, 0.6338]])\n",
      "tensor([[-0.1142,  1.1888,  0.2506],\n",
      "        [-0.5719,  2.9942, -0.7190]])\n",
      "tensor([[2, 3, 7],\n",
      "        [7, 5, 5]])\n"
     ]
    }
   ],
   "source": [
    "# torch.manual_seed(123) # For creating a seed\n",
    "\n",
    "# Uniform distribution, range is [0, 1)\n",
    "# Output type is float\n",
    "tensor_random1 = torch.rand(2, 3)\n",
    "print(tensor_random1)\n",
    "\n",
    "# Normal (Gaussian) distribution, with mean = 0 and standard deviation = 1\n",
    "# Range is theoretically infinite, but usually around -3 to 3\n",
    "# Output type is float\n",
    "tensor_random2 = torch.randn(2, 3)\n",
    "print(tensor_random2)\n",
    "\n",
    "# Uniform distribution over integers\n",
    "# Range can be speficied with low and high \n",
    "# Output type is integer\n",
    "tensor_random3 = torch.randint(low=0, high=10, size=(2, 3))\n",
    "print(tensor_random3)"
   ]
  },
  {
   "cell_type": "markdown",
   "id": "4a881321",
   "metadata": {},
   "source": [
    "Functions like `torch.zeros_like()`, `torch.ones_like()`, `torch.rand_like()`, `torch.randn_like()` and `torch.randint_like()` are used to create new tensors with the same shape and type as an existing tensor."
   ]
  },
  {
   "cell_type": "markdown",
   "id": "ae71b4e3",
   "metadata": {},
   "source": [
    "#### Numpy Bridge\n",
    "\n",
    "Tensors on the CPU and NumPy arrays can share their underlying memory locations, and changing one will change the other.\n",
    "- Tensor to NumPy array: `numpy_array = tensor.numpy()`\n",
    "- NumPy array to Tensor: `tensor = torch.from_numpy(numpy_array)`"
   ]
  },
  {
   "cell_type": "markdown",
   "id": "f7be7088",
   "metadata": {},
   "source": [
    "#### Attributes of a Tensor"
   ]
  },
  {
   "cell_type": "code",
   "execution_count": 3,
   "id": "d9625196",
   "metadata": {},
   "outputs": [
    {
     "name": "stdout",
     "output_type": "stream",
     "text": [
      "<class 'torch.Tensor'>\n",
      "Shape of tensor: torch.Size([3, 4])\n",
      "Number of dimensions: 2\n",
      "Data type of tensor: torch.float32\n",
      "Device tensor is stored on: cpu\n",
      "Total number of elements: 12\n"
     ]
    }
   ],
   "source": [
    "tensor = torch.rand(3, 4)\n",
    "\n",
    "print(type(tensor))\n",
    "print(f\"Shape of tensor: {tensor.shape}\")\n",
    "print(f\"Number of dimensions: {tensor.ndim}\")\n",
    "print(f\"Data type of tensor: {tensor.dtype}\")\n",
    "print(f\"Device tensor is stored on: {tensor.device}\")\n",
    "print(f\"Total number of elements: {tensor.numel()}\")\n"
   ]
  },
  {
   "cell_type": "markdown",
   "id": "e5ab0a48",
   "metadata": {},
   "source": [
    "#### Tensor Datatypes\n",
    "\n",
    "The default `dtype` of `torch.Tensor` is `torch.float32` (also known as `torch.FloatTensor`, a 32-bit floating point).\n",
    "\n",
    "For backwards compatibility, PyTorch provides specific CPU and GPU class names for some data types, though using `dtype=torch.*` is recommended.\n",
    "\n",
    "There are also 32/64/128-bit complex data types, as well as 16/32/64-bit integer (unsigned) data types.\n",
    "\n",
    "| Data Type | Description | CPU Tensor Class | GPU Tensor Class |\n",
    "| --- | --- | --- | --- |\n",
    "| torch.float16 | 16-bit floating point | torch.HalfTensor | torch.cuda.HalfTensor |\n",
    "| torch.bfloat16 | 16-bit floating point | torch.BFloat16Tensor | torch.cuda.BFloat16Tensor |\n",
    "| torch.float32 / torch.float | 32-bit floating point | torch.FloatTensor | torch.cuda.FloatTensor |\n",
    "| torch.float64 / torch.double | 64-bit floating point | torch.DoubleTensor | torch.cuda.DoubleTensor |\n",
    "| torch.uint8 | 8-bit integer (unsigned) | torch.ByteTensor | torch.cuda.ByteTensor |\n",
    "| torch.int8 | 8-bit integer (signed) | torch.CharTensor | torch.cuda.CharTensor |\n",
    "| torch.int16 / torch.short | 16-bit integer (signed) | torch.ShortTensor | torch.cuda.ShortTensor |\n",
    "| torch.int32 / torch.int | 32-bit integer (signed) | torch.IntTensor | torch.cuda.IntTensor |\n",
    "| torch.int64 / torch.long | 64-bit integer (signed) | torch.LongTensor | torch.cuda.LongTensor |\n",
    "| torch.bool | Boolean | torch.BoolTensor | torch.cuda.BoolTensor |\n",
    "\n",
    "The `.to()` method is used to move a tensor to a specific device (CPU or GPU), change the data type of a tensor or both at the same time."
   ]
  },
  {
   "cell_type": "code",
   "execution_count": 4,
   "id": "93e977d2",
   "metadata": {},
   "outputs": [],
   "source": [
    "tensor1 = torch.tensor([1.0, 2.0])\n",
    "tensor_gpu = tensor1.to(\"cuda\") # Moves tensor to GPU (if available)\n",
    "tensor_cpu = tensor_gpu.to(\"cpu\") # Moves tensor back to CPU\n",
    "tensor_int = tensor1.to(torch.int32)\n",
    "tensor_new = tensor1.to(dtype=torch.float64, device=\"cuda\")"
   ]
  },
  {
   "cell_type": "markdown",
   "id": "1f9e79e2",
   "metadata": {},
   "source": [
    "#### Tensor Operations"
   ]
  },
  {
   "cell_type": "markdown",
   "id": "160fde00",
   "metadata": {},
   "source": [
    "Tensor operations refer to the wide range of functions and methods that can be applied to `torch.Tensor` objects.\n",
    "\n",
    "- Refer to: https://pytorch.org/docs/stable/tensors.html"
   ]
  },
  {
   "cell_type": "code",
   "execution_count": 5,
   "id": "36b4e9e1",
   "metadata": {},
   "outputs": [
    {
     "name": "stdout",
     "output_type": "stream",
     "text": [
      "torch module: 1451\n",
      "torch.tensor class: 749\n"
     ]
    }
   ],
   "source": [
    "# Count the number of attributes/functions/classes in the torch module\n",
    "print(\"torch module:\", len(dir(torch)))\n",
    "\n",
    "# Count the number of attributes/methods in torch.Tensor class\n",
    "print(\"torch.tensor class:\", len(dir(torch.Tensor)))"
   ]
  },
  {
   "cell_type": "code",
   "execution_count": 6,
   "id": "465e7f6e",
   "metadata": {},
   "outputs": [
    {
     "name": "stdout",
     "output_type": "stream",
     "text": [
      "a after add_:\n",
      " tensor([2., 3., 4.])\n",
      "a after mul_:\n",
      " tensor([4., 6., 8.])\n",
      "Dot product:\n",
      " tensor(32.)\n",
      "Matrix mul:\n",
      " tensor(32.)\n",
      "Element mul:\n",
      " tensor([ 4., 10., 18.])\n",
      "Concatenated:\n",
      " tensor([1., 2., 3., 4., 5., 6.])\n",
      "Stacked:\n",
      " tensor([[1., 2., 3.],\n",
      "        [4., 5., 6.]])\n",
      "View (3x4):\n",
      " tensor([[ 0,  1,  2,  3],\n",
      "        [ 4,  5,  6,  7],\n",
      "        [ 8,  9, 10, 11]])\n",
      "Reshape (3x4):\n",
      " tensor([[ 0,  1,  2,  3],\n",
      "        [ 4,  5,  6,  7],\n",
      "        [ 8,  9, 10, 11]])\n",
      "Original g:\n",
      " tensor([[-0.7772,  0.5842],\n",
      "        [ 2.3193, -0.6538]])\n",
      "Transposed g:\n",
      " tensor([[-0.7772,  2.3193],\n",
      "        [ 0.5842, -0.6538]])\n",
      "Filled with 5:\n",
      " tensor([[5., 5., 5., 5.],\n",
      "        [5., 5., 5., 5.],\n",
      "        [5., 5., 5., 5.]])\n",
      "Diagonal:\n",
      " tensor([[1, 0, 0],\n",
      "        [0, 2, 0],\n",
      "        [0, 0, 3]])\n",
      "Eye:\n",
      " tensor([[1., 0., 0.],\n",
      "        [0., 1., 0.],\n",
      "        [0., 0., 1.]])\n",
      "tensor([-1, -1, -1,  4,  5,  6,  7])\n"
     ]
    }
   ],
   "source": [
    "a = torch.tensor([1.0, 2.0, 3.0])\n",
    "b = torch.tensor([4.0, 5.0, 6.0])\n",
    "\n",
    "# Using a trailing underscore '_' for in-place ops:\n",
    "a1 = torch.tensor([1.0, 2.0, 3.0])\n",
    "print(\"a after add_:\\n\", a1.add_(1))\n",
    "print(\"a after mul_:\\n\", a1.mul_(2))\n",
    "\n",
    "# Dot Product\n",
    "print(\"Dot product:\\n\", torch.dot(a, b))\n",
    "\n",
    "# Matrix Multiplication, shorthand @\n",
    "c1 = torch.matmul(a, b) # a @ b\n",
    "print(\"Matrix mul:\\n\", c1)\n",
    "\n",
    "# Element Multiplication\n",
    "c2 = torch.mul(a, b) # a * b\n",
    "print(\"Element mul:\\n\", c2)\n",
    "\n",
    "# Concatenation\n",
    "# Join tensors along an existing dimension\n",
    "d = torch.cat((a, b), dim=0)\n",
    "print(\"Concatenated:\\n\", d)\n",
    "\n",
    "# Stacking\n",
    "# Adds a new dimension\n",
    "e = torch.stack((a, b), dim=0)\n",
    "print(\"Stacked:\\n\", e)\n",
    "\n",
    "# Reshape\n",
    "f = torch.arange(12) # shape (12,)\n",
    "print(\"View (3x4):\\n\", f.view(3, 4))\n",
    "print(\"Reshape (3x4):\\n\", f.reshape(3, 4))\n",
    "\n",
    "# Transpose\n",
    "g = torch.randn(2, 2)\n",
    "print(\"Original g:\\n\", g)\n",
    "print(\"Transposed g:\\n\", g.T)\n",
    "\n",
    "# Cloning, important to avoid unwanted sharing\n",
    "h1 = g.clone()\n",
    "\n",
    "# Detach, used in autograd to stop gradients\n",
    "h2 = g.detach()\n",
    "\n",
    "# Fill, making a tensor with the provided value\n",
    "i = torch.full((3, 4), 5.0)\n",
    "print(\"Filled with 5:\\n\", i)\n",
    "\n",
    "# Diagonal matrix\n",
    "j1 = torch.tensor([1, 2, 3])\n",
    "print(\"Diagonal:\\n\", torch.diag(j1))\n",
    "\n",
    "# Eye matrix\n",
    "j2 = torch.eye(3)\n",
    "print(\"Eye:\\n\", j2)\n",
    "\n",
    "# Conditionally selecting elements\n",
    "k = torch.tensor([1, 2, 3, 4, 5, 6, 7])\n",
    "k1 = torch.where(k > 3, k, -1)\n",
    "print(k1)"
   ]
  },
  {
   "cell_type": "markdown",
   "id": "7764af44",
   "metadata": {},
   "source": [
    "#### Changing the Number of Dimensions"
   ]
  },
  {
   "cell_type": "code",
   "execution_count": 7,
   "id": "fb06ce51",
   "metadata": {},
   "outputs": [
    {
     "name": "stdout",
     "output_type": "stream",
     "text": [
      "tensor_a: torch.Size([3, 256, 256])\n",
      "tensor_b: torch.Size([1, 3, 256, 256])\n",
      "tensor_c: tensor([[0.2834, 0.2805, 0.3908, 0.6951, 0.3021]])\n",
      "tensor_d: tensor([0.2834, 0.2805, 0.3908, 0.6951, 0.3021])\n"
     ]
    }
   ],
   "source": [
    "tensor_a = torch.rand(3, 256, 256)\n",
    "tensor_b = tensor_a.unsqueeze(0)\n",
    "\n",
    "print(\"tensor_a:\", tensor_a.shape)\n",
    "print(\"tensor_b:\", tensor_b.shape)\n",
    "\n",
    "tensor_c = torch.rand(1, 5)\n",
    "tensor_d = tensor_c.squeeze(0)\n",
    "\n",
    "print(\"tensor_c:\", tensor_c)\n",
    "print(\"tensor_d:\", tensor_d)"
   ]
  },
  {
   "cell_type": "markdown",
   "id": "0380fd72",
   "metadata": {},
   "source": [
    "#### Saving and Loading Tensors"
   ]
  },
  {
   "cell_type": "code",
   "execution_count": 8,
   "id": "feecebe9",
   "metadata": {},
   "outputs": [],
   "source": [
    "s_tensor = torch.tensor([1, 2, 3, 4, 5])\n",
    "# torch.save(s_tensor, \"file_name.txt\")\n",
    "\n",
    "# l_tensor = torch.load(\"file_name.txt\")"
   ]
  }
 ],
 "metadata": {
  "kernelspec": {
   "display_name": "Python 3",
   "language": "python",
   "name": "python3"
  },
  "language_info": {
   "codemirror_mode": {
    "name": "ipython",
    "version": 3
   },
   "file_extension": ".py",
   "mimetype": "text/x-python",
   "name": "python",
   "nbconvert_exporter": "python",
   "pygments_lexer": "ipython3",
   "version": "3.12.3"
  }
 },
 "nbformat": 4,
 "nbformat_minor": 5
}
